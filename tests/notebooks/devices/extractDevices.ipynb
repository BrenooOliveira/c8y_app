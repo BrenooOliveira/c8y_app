{
 "cells": [
  {
   "cell_type": "code",
   "execution_count": 158,
   "metadata": {},
   "outputs": [],
   "source": [
    "from c8y_api import CumulocityApi\n",
    "from c8y_api.model import DeviceInventory\n",
    "import pandas as pd"
   ]
  },
  {
   "cell_type": "code",
   "execution_count": 3,
   "metadata": {},
   "outputs": [],
   "source": [
    "import json\n",
    "import os\n",
    "\n",
    "config_path = os.path.join(os.getcwd(), '..','..','..','','configs','config.json')\n",
    "with open(config_path) as config_file:\n",
    "    login = json.load(config_file)\n",
    "\n",
    "# instâncias gloabais\n",
    "c8y = CumulocityApi(\n",
    "    base_url= login['url'],\n",
    "    tenant_id= login['tenant'],\n",
    "    username= login['username'],\n",
    "    password= login['password'],\n",
    ")"
   ]
  },
  {
   "cell_type": "code",
   "execution_count": 157,
   "metadata": {},
   "outputs": [],
   "source": [
    "dev = DeviceInventory(c8y)\n",
    "\n",
    "schema = {\n",
    "    'id': [],\n",
    "    'name': [],\n",
    "    'owner':[]\n",
    "}\n",
    "\n",
    "for d in dev.get_all():\n",
    "    if len(list(i.get_supported_measurements())) > 0:\n",
    "        schema['name'].append(d.name)\n",
    "        schema['id'].append(d.id)\n",
    "        schema['owner'].append(d.owner)\n",
    "\n",
    "        \n",
    "        \n"
   ]
  },
  {
   "cell_type": "code",
   "execution_count": 159,
   "metadata": {},
   "outputs": [],
   "source": [
    "df = pd.DataFrame(schema)"
   ]
  },
  {
   "cell_type": "code",
   "execution_count": 161,
   "metadata": {},
   "outputs": [
    {
     "data": {
      "text/html": [
       "<div>\n",
       "<style scoped>\n",
       "    .dataframe tbody tr th:only-of-type {\n",
       "        vertical-align: middle;\n",
       "    }\n",
       "\n",
       "    .dataframe tbody tr th {\n",
       "        vertical-align: top;\n",
       "    }\n",
       "\n",
       "    .dataframe thead th {\n",
       "        text-align: right;\n",
       "    }\n",
       "</style>\n",
       "<table border=\"1\" class=\"dataframe\">\n",
       "  <thead>\n",
       "    <tr style=\"text-align: right;\">\n",
       "      <th></th>\n",
       "      <th>id</th>\n",
       "      <th>name</th>\n",
       "      <th>owner</th>\n",
       "    </tr>\n",
       "  </thead>\n",
       "  <tbody>\n",
       "    <tr>\n",
       "      <th>0</th>\n",
       "      <td>3342</td>\n",
       "      <td>MAYEKAWA-UTILIDADES</td>\n",
       "      <td>device_359180080442665</td>\n",
       "    </tr>\n",
       "    <tr>\n",
       "      <th>1</th>\n",
       "      <td>337184</td>\n",
       "      <td>FERREIRA INTERNACIONAL</td>\n",
       "      <td>device_SiteManager-FerreiraInternacional</td>\n",
       "    </tr>\n",
       "    <tr>\n",
       "      <th>2</th>\n",
       "      <td>3472183</td>\n",
       "      <td>FERREIRA-INTERNATIONAL-MK-PRED-02</td>\n",
       "      <td>device_SiteManager-FerreiraInternacional</td>\n",
       "    </tr>\n",
       "    <tr>\n",
       "      <th>3</th>\n",
       "      <td>5298309</td>\n",
       "      <td>FERREIRA-INTERNATIONAL-CP-03</td>\n",
       "      <td>device_SiteManager-FerreiraInternacional</td>\n",
       "    </tr>\n",
       "    <tr>\n",
       "      <th>4</th>\n",
       "      <td>6913752</td>\n",
       "      <td>FERREIRA-INTERNATIONAL-MK-PRED-01</td>\n",
       "      <td>device_SiteManager-FerreiraInternacional</td>\n",
       "    </tr>\n",
       "    <tr>\n",
       "      <th>...</th>\n",
       "      <td>...</td>\n",
       "      <td>...</td>\n",
       "      <td>...</td>\n",
       "    </tr>\n",
       "    <tr>\n",
       "      <th>279</th>\n",
       "      <td>801330834062</td>\n",
       "      <td>BRF-LONDRINA-MKPRED-06</td>\n",
       "      <td>device_Sc003e9fgm23.secomea.com</td>\n",
       "    </tr>\n",
       "    <tr>\n",
       "      <th>280</th>\n",
       "      <td>571331118180</td>\n",
       "      <td>BRF-LONDRINA-MKPRED-ANX-101</td>\n",
       "      <td>device_Sc003e9fgm23.secomea.com</td>\n",
       "    </tr>\n",
       "    <tr>\n",
       "      <th>281</th>\n",
       "      <td>301331648781</td>\n",
       "      <td>BRF-LONDRINA-MKPRED-ANX-101</td>\n",
       "      <td>device_Sc003e9fgm23.secomea.com</td>\n",
       "    </tr>\n",
       "    <tr>\n",
       "      <th>282</th>\n",
       "      <td>161331650899</td>\n",
       "      <td>MYPRO-ANX-GBT-100</td>\n",
       "      <td>device_Sc003e9fgm23.secomea.com</td>\n",
       "    </tr>\n",
       "    <tr>\n",
       "      <th>283</th>\n",
       "      <td>441331838931</td>\n",
       "      <td>MYPRO-ANX-GBT-100</td>\n",
       "      <td>device_Sc003e9fgm23.secomea.com</td>\n",
       "    </tr>\n",
       "  </tbody>\n",
       "</table>\n",
       "<p>284 rows × 3 columns</p>\n",
       "</div>"
      ],
      "text/plain": [
       "               id                               name  \\\n",
       "0            3342                MAYEKAWA-UTILIDADES   \n",
       "1          337184             FERREIRA INTERNACIONAL   \n",
       "2         3472183  FERREIRA-INTERNATIONAL-MK-PRED-02   \n",
       "3         5298309       FERREIRA-INTERNATIONAL-CP-03   \n",
       "4         6913752  FERREIRA-INTERNATIONAL-MK-PRED-01   \n",
       "..            ...                                ...   \n",
       "279  801330834062             BRF-LONDRINA-MKPRED-06   \n",
       "280  571331118180        BRF-LONDRINA-MKPRED-ANX-101   \n",
       "281  301331648781        BRF-LONDRINA-MKPRED-ANX-101   \n",
       "282  161331650899                  MYPRO-ANX-GBT-100   \n",
       "283  441331838931                  MYPRO-ANX-GBT-100   \n",
       "\n",
       "                                        owner  \n",
       "0                      device_359180080442665  \n",
       "1    device_SiteManager-FerreiraInternacional  \n",
       "2    device_SiteManager-FerreiraInternacional  \n",
       "3    device_SiteManager-FerreiraInternacional  \n",
       "4    device_SiteManager-FerreiraInternacional  \n",
       "..                                        ...  \n",
       "279           device_Sc003e9fgm23.secomea.com  \n",
       "280           device_Sc003e9fgm23.secomea.com  \n",
       "281           device_Sc003e9fgm23.secomea.com  \n",
       "282           device_Sc003e9fgm23.secomea.com  \n",
       "283           device_Sc003e9fgm23.secomea.com  \n",
       "\n",
       "[284 rows x 3 columns]"
      ]
     },
     "execution_count": 161,
     "metadata": {},
     "output_type": "execute_result"
    }
   ],
   "source": [
    "df"
   ]
  },
  {
   "cell_type": "code",
   "execution_count": 164,
   "metadata": {},
   "outputs": [],
   "source": [
    "from office365.sharepoint.client_context import ClientContext, UserCredential\n",
    "user_credentials = UserCredential('breno.oliveira@mayekawa.com.br', 'Brenets2009@')\n",
    "sharepoint = ClientContext(base_url='https://mayekawamicrosoft.sharepoint.com/sites/c8y_deviations/SitePages/CollabHome.aspx').with_credentials(user_credentials)"
   ]
  },
  {
   "cell_type": "code",
   "execution_count": 169,
   "metadata": {},
   "outputs": [
    {
     "ename": "TypeError",
     "evalue": "'ClientResult' object is not iterable",
     "output_type": "error",
     "traceback": [
      "\u001b[1;31m---------------------------------------------------------------------------\u001b[0m",
      "\u001b[1;31mTypeError\u001b[0m                                 Traceback (most recent call last)",
      "Cell \u001b[1;32mIn[169], line 1\u001b[0m\n\u001b[1;32m----> 1\u001b[0m \u001b[38;5;28;43mlist\u001b[39;49m\u001b[43m(\u001b[49m\u001b[43msharepoint\u001b[49m\u001b[38;5;241;43m.\u001b[39;49m\u001b[43mget_metadata\u001b[49m\u001b[43m(\u001b[49m\u001b[43m)\u001b[49m\u001b[43m)\u001b[49m\n",
      "\u001b[1;31mTypeError\u001b[0m: 'ClientResult' object is not iterable"
     ]
    }
   ],
   "source": [
    "sharepoint.get_metadata()"
   ]
  },
  {
   "cell_type": "code",
   "execution_count": null,
   "metadata": {},
   "outputs": [],
   "source": []
  }
 ],
 "metadata": {
  "kernelspec": {
   "display_name": "virtualenv",
   "language": "python",
   "name": "python3"
  },
  "language_info": {
   "codemirror_mode": {
    "name": "ipython",
    "version": 3
   },
   "file_extension": ".py",
   "mimetype": "text/x-python",
   "name": "python",
   "nbconvert_exporter": "python",
   "pygments_lexer": "ipython3",
   "version": "3.11.5"
  }
 },
 "nbformat": 4,
 "nbformat_minor": 2
}
