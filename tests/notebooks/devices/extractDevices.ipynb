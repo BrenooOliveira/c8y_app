{
 "cells": [
  {
   "cell_type": "code",
   "execution_count": 1,
   "metadata": {},
   "outputs": [],
   "source": [
    "from c8y_api import CumulocityApi\n",
    "from c8y_api.model import DeviceInventory\n",
    "import pandas as pd"
   ]
  },
  {
   "cell_type": "code",
   "execution_count": 7,
   "metadata": {},
   "outputs": [],
   "source": [
    "class ExtractDevices:\n",
    "    def __init__(self,c8y):\n",
    "        from c8y_api import CumulocityApi\n",
    "        import json\n",
    "        import os\n",
    "\n",
    "        # file with credentials\n",
    "        config_path = os.path.join(os.getcwd(), '..','..','..','','configs','config.json')\n",
    "        with open(config_path) as config_file:\n",
    "            login = json.load(config_file)\n",
    "\n",
    "        # instâncias globais\n",
    "        self.c8y = CumulocityApi(\n",
    "            base_url= login['url'],\n",
    "            tenant_id= login['tenant'],\n",
    "            username= login['username'],\n",
    "            password= login['password'],\n",
    "        )\n",
    "    def extrair_devices():\n",
    "        from c8y_api.model import DeviceInventory\n",
    "        import pandas as pd\n",
    "        dev = DeviceInventory(c8y)\n",
    "\n",
    "        schema = {\n",
    "            'id': [],\n",
    "            'name': [],\n",
    "            'owner':[]\n",
    "        }\n",
    "\n",
    "        for d in dev.get_all():\n",
    "            if len(list(d.get_supported_measurements())) > 0:\n",
    "                schema['name'].append(d.name)\n",
    "                schema['id'].append(d.id)\n",
    "                schema['owner'].append(d.owner)\n",
    "\n",
    "        \n",
    "        \n",
    "\n",
    "            "
   ]
  },
  {
   "cell_type": "code",
   "execution_count": 2,
   "metadata": {},
   "outputs": [],
   "source": [
    "import json\n",
    "import os\n",
    "\n",
    "config_path = os.path.join(os.getcwd(), '..','..','..','','configs','config.json')\n",
    "with open(config_path) as config_file:\n",
    "    login = json.load(config_file)\n",
    "\n",
    "# instâncias gloabais\n",
    "c8y = CumulocityApi(\n",
    "    base_url= login['url'],\n",
    "    tenant_id= login['tenant'],\n",
    "    username= login['username'],\n",
    "    password= login['password'],\n",
    ")"
   ]
  },
  {
   "cell_type": "code",
   "execution_count": 4,
   "metadata": {},
   "outputs": [],
   "source": [
    "dev = DeviceInventory(c8y)\n",
    "\n",
    "schema = {\n",
    "    'id': [],\n",
    "    'name': [],\n",
    "    'owner':[]\n",
    "}\n",
    "\n",
    "for d in dev.get_all():\n",
    "    if len(list(d.get_supported_measurements())) > 0:\n",
    "        schema['name'].append(d.name)\n",
    "        schema['id'].append(d.id)\n",
    "        schema['owner'].append(d.owner)\n",
    "\n",
    "        \n",
    "        \n"
   ]
  },
  {
   "cell_type": "code",
   "execution_count": 55,
   "metadata": {},
   "outputs": [],
   "source": [
    "import csv\n",
    "\n",
    "my_dict = {\"a\": [1,2], \"b\": [2,3]}\n",
    "\n",
    "data_path = os.path.join(os.getcwd(),'..','..','..','','datas','devices.csv')\n",
    "with open(data_path, 'w') as data_file:\n",
    "    writer = csv.writer(data_file)\n",
    "    writer.writerow(list[my_dict.keys()])\n",
    "    for v in my_dict.values():\n",
    "        writer.writerow(v)\n"
   ]
  },
  {
   "cell_type": "code",
   "execution_count": 52,
   "metadata": {},
   "outputs": [
    {
     "name": "stdout",
     "output_type": "stream",
     "text": [
      "a 1\n",
      "a 2\n",
      "b 2\n",
      "b 3\n"
     ]
    }
   ],
   "source": [
    "for chave, valores in my_dict.items():\n",
    "    for valor in valores:\n",
    "        print(chave, valor)"
   ]
  },
  {
   "cell_type": "code",
   "execution_count": null,
   "metadata": {},
   "outputs": [],
   "source": []
  }
 ],
 "metadata": {
  "kernelspec": {
   "display_name": "virtualenv",
   "language": "python",
   "name": "python3"
  },
  "language_info": {
   "codemirror_mode": {
    "name": "ipython",
    "version": 3
   },
   "file_extension": ".py",
   "mimetype": "text/x-python",
   "name": "python",
   "nbconvert_exporter": "python",
   "pygments_lexer": "ipython3",
   "version": "3.11.5"
  }
 },
 "nbformat": 4,
 "nbformat_minor": 2
}
