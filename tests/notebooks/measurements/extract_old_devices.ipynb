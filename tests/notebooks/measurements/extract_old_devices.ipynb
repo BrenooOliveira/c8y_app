{
 "cells": [
  {
   "cell_type": "code",
   "execution_count": 1,
   "metadata": {},
   "outputs": [],
   "source": [
    "# libs necessárias\n",
    "from c8y_api import CumulocityApi\n",
    "from datetime import timedelta\n",
    "import pandas as pd \n"
   ]
  },
  {
   "cell_type": "code",
   "execution_count": 2,
   "metadata": {},
   "outputs": [],
   "source": [
    "import json\n",
    "import os\n",
    "\n",
    "config_path = os.path.join(os.getcwd(), '..','..','','configs','config.json')\n",
    "with open(config_path) as config_file:\n",
    "    login = json.load(config_file)\n"
   ]
  },
  {
   "cell_type": "code",
   "execution_count": 3,
   "metadata": {},
   "outputs": [],
   "source": [
    "# instâncias gloabais\n",
    "c8y = CumulocityApi(\n",
    "    base_url= login['url'],\n",
    "    tenant_id= login['tenant'],\n",
    "    username= login['username'],\n",
    "    password= login['password'],\n",
    ")\n",
    "\n",
    "#devices de teste\n",
    "# 621151045972 -> unilever || 1069740447 -> serbom || 611284292311 -> garoto cag 09 || 481304022994 -> garoto cag 10\n",
    "sources = ['621151045972', '1069740447', '611284292311','481304022994']\n",
    "\n",
    "# métricas de hora para separar o periodo das horas measurements puxadas\n",
    "two_hours = timedelta(hours=2) # 2 hours older\n",
    "one_hour = timedelta(hours=1) # 1 hour older"
   ]
  },
  {
   "cell_type": "markdown",
   "metadata": {},
   "source": [
    "# EXTRAÇÃO INICIA AQUI\n",
    "- 621151045972 -> unilever (deactivated)\n",
    "- 1069740447 -> serbom (old)\n",
    "- 611284292311 -> garoto cag 09 (new)\n",
    "- 481304022994 -> garoto cag 10 (new)"
   ]
  },
  {
   "cell_type": "code",
   "execution_count": 4,
   "metadata": {},
   "outputs": [],
   "source": [
    "# puxando measurements de uma hora atrás\n",
    "one_hour_measu = c8y.measurements.select(source=sources[1],max_age=one_hour) "
   ]
  },
  {
   "cell_type": "code",
   "execution_count": 30,
   "metadata": {},
   "outputs": [],
   "source": [
    "for i,v in enumerate(one_hour_measu):\n",
    "    for j,m in enumerate(v):\n",
    "        print(m.keys())\n"
   ]
  },
  {
   "cell_type": "code",
   "execution_count": 23,
   "metadata": {},
   "outputs": [
    {
     "ename": "NameError",
     "evalue": "name 'm' is not defined",
     "output_type": "error",
     "traceback": [
      "\u001b[1;31m---------------------------------------------------------------------------\u001b[0m",
      "\u001b[1;31mNameError\u001b[0m                                 Traceback (most recent call last)",
      "Cell \u001b[1;32mIn[23], line 1\u001b[0m\n\u001b[1;32m----> 1\u001b[0m \u001b[43mm\u001b[49m\n",
      "\u001b[1;31mNameError\u001b[0m: name 'm' is not defined"
     ]
    }
   ],
   "source": []
  }
 ],
 "metadata": {
  "kernelspec": {
   "display_name": "virtualenv",
   "language": "python",
   "name": "python3"
  },
  "language_info": {
   "codemirror_mode": {
    "name": "ipython",
    "version": 3
   },
   "file_extension": ".py",
   "mimetype": "text/x-python",
   "name": "python",
   "nbconvert_exporter": "python",
   "pygments_lexer": "ipython3",
   "version": "3.11.5"
  }
 },
 "nbformat": 4,
 "nbformat_minor": 2
}
