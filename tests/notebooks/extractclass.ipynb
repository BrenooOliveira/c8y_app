{
 "cells": [
  {
   "cell_type": "code",
   "execution_count": 6,
   "metadata": {},
   "outputs": [],
   "source": [
    "class ExtractMeasurements:\n",
    "    def __init__(self,c8y,source):\n",
    "        \n",
    "        from datetime import timedelta\n",
    "        import pandas as pd\n",
    "\n",
    "        #instância necessárias para realizar as operaçoes na API\n",
    "        self.c8y = c8y\n",
    "        self.source = source\n",
    "\n",
    "        self.delta_twohours = timedelta(hours=2) # 2 hours older\n",
    "        self.delta_onehour = timedelta(hours=1) # 1 hour older\n",
    "\n",
    "\n",
    "    #classe para extrair de devices novos\n",
    "    def extract_new_devices(self) -> list:\n",
    "        def tratamento(_hour_measu):\n",
    "            df = {}\n",
    "            for i,v in enumerate(_hour_measu):\n",
    "                fragments = v.fragments # caracteristicas do dados puxado. Daí tiramos as propriedes que queremos\n",
    "                col_name = list(fragments.keys())[0] # nome da nossa coluna no df\n",
    "                aux = list(fragments[col_name].keys())[0] # parametro utilizado para entrar no aninhamento\n",
    "                value = [list(fragments[col_name][aux].values())[1]] #valor do parametro atual -> inserimos ele numa lista para poder appendar no script abaixo\n",
    "\n",
    "                # no primeiro loop, precisamos definir as colunas do dataframe, nos próximos basta appendarmos.\n",
    "                try:\n",
    "                    df[col_name].append(value[0])\n",
    "                except KeyError as error:\n",
    "                    df[col_name] = value\n",
    "\n",
    "                comp_min = min(map(len,df.values())) # alguns parametros possuem time interval de envio de dados diferentes. Isso faz com que seja necessario equilibrarmos ele\n",
    "                #limitando as linhas do dataframe\n",
    "                for k,v in df.items():\n",
    "                    df[k] = v[:comp_min]\n",
    "                \n",
    "                df = pd.DataFrame(df)\n",
    "                return df\n",
    "        \n",
    "        one_hour_measu = self.c8y.measurements.select(source=self.source,max_age=self.delta_onehour)\n",
    "        \n",
    "        two_hour_measu = self.c8y.measurements.select(source=self.source,max_age=self.delta_twohours, min_age=self.delta_onehour)\n",
    "        \n",
    "        return tratamento(one_hour_measu)\n",
    "\n",
    "\n",
    "    def extract_old_devices(self):\n",
    "        pass\n",
    "    \n",
    "        \n",
    "        "
   ]
  },
  {
   "cell_type": "markdown",
   "metadata": {},
   "source": [
    "# TESTE DA CLASSE"
   ]
  },
  {
   "cell_type": "code",
   "execution_count": 7,
   "metadata": {},
   "outputs": [],
   "source": [
    "# libs necessárias\n",
    "from c8y_api import CumulocityApi\n",
    "from datetime import timedelta\n",
    "import pandas as pd \n",
    "\n",
    "import json\n",
    "import os\n",
    "\n",
    "config_path = os.path.join(os.getcwd(), '..','..','','configs','config.json')\n",
    "with open(config_path) as config_file:\n",
    "    login = json.load(config_file)\n",
    "\n",
    "# instâncias gloabais\n",
    "c8y = CumulocityApi(\n",
    "    base_url= login['url'],\n",
    "    tenant_id= login['tenant'],\n",
    "    username= login['username'],\n",
    "    password= login['password'],\n",
    ")\n",
    "\n",
    "#devices de teste\n",
    "# 621151045972 -> unilever || 1069740447 -> serbom || 611284292311 -> garoto cag 09 || 481304022994 -> garoto cag 10\n",
    "sources = ['621151045972', '1069740447', '611284292311','481304022994']\n"
   ]
  },
  {
   "cell_type": "code",
   "execution_count": 8,
   "metadata": {},
   "outputs": [],
   "source": [
    "extract = ExtractMeasurements(c8y=c8y,source=sources[2])"
   ]
  },
  {
   "cell_type": "code",
   "execution_count": 9,
   "metadata": {},
   "outputs": [
    {
     "data": {
      "text/plain": [
       "[   EB_CAG09\n",
       " 0  8.347283,\n",
       "    EB_CAG09\n",
       " 0  7.218605]"
      ]
     },
     "execution_count": 9,
     "metadata": {},
     "output_type": "execute_result"
    }
   ],
   "source": [
    "extract.extract_new_devices()"
   ]
  },
  {
   "cell_type": "code",
   "execution_count": null,
   "metadata": {},
   "outputs": [],
   "source": []
  }
 ],
 "metadata": {
  "kernelspec": {
   "display_name": "virtualenv",
   "language": "python",
   "name": "python3"
  },
  "language_info": {
   "codemirror_mode": {
    "name": "ipython",
    "version": 3
   },
   "file_extension": ".py",
   "mimetype": "text/x-python",
   "name": "python",
   "nbconvert_exporter": "python",
   "pygments_lexer": "ipython3",
   "version": "3.11.5"
  }
 },
 "nbformat": 4,
 "nbformat_minor": 2
}
