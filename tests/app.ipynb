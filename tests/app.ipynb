{
 "cells": [
  {
   "cell_type": "code",
   "execution_count": 37,
   "metadata": {},
   "outputs": [],
   "source": [
    "import pandas as pd\n",
    "from c8y_api import CumulocityApi\n",
    "\n",
    "from notebooks.devices.extractDevices import ExtractDevices\n",
    "from notebooks.measurements.extractclass import ExtractMeasurements\n",
    "\n",
    "import os, json\n",
    "CREDENTIALS = os.path.join(os.getcwd(),'..','','configs','config.json') \n",
    "DEVICES_PATH = os.path.join(os.getcwd(),'..','datas','devices.csv') # path p/ salvar os devices encontrados pela API\n",
    "\n",
    "\n",
    "\n"
   ]
  },
  {
   "cell_type": "code",
   "execution_count": 38,
   "metadata": {},
   "outputs": [],
   "source": [
    "with open(CREDENTIALS) as config_file:\n",
    "    login = json.load(config_file)\n",
    "c8y = CumulocityApi(login['url'],\n",
    "                    login['tenant'],\n",
    "                    login['username'],\n",
    "                    login['password'])"
   ]
  },
  {
   "cell_type": "code",
   "execution_count": 39,
   "metadata": {},
   "outputs": [],
   "source": [
    "#devices de teste\n",
    "# 621151045972 -> unilever mkpred1|| 1069740447 -> serbom || 611284292311 -> garoto cag 09 || 481304022994 -> garoto cag 10 || 891204422984 -> Fini Secomea || 581244909717 -> SODEBO\n",
    "sources = ['631151045979', '1069740447', '611284292311','481304022994','891204422984', '581244909717']"
   ]
  },
  {
   "cell_type": "code",
   "execution_count": null,
   "metadata": {},
   "outputs": [],
   "source": []
  }
 ],
 "metadata": {
  "kernelspec": {
   "display_name": "virtualenv",
   "language": "python",
   "name": "python3"
  },
  "language_info": {
   "codemirror_mode": {
    "name": "ipython",
    "version": 3
   },
   "file_extension": ".py",
   "mimetype": "text/x-python",
   "name": "python",
   "nbconvert_exporter": "python",
   "pygments_lexer": "ipython3",
   "version": "3.11.5"
  }
 },
 "nbformat": 4,
 "nbformat_minor": 2
}
